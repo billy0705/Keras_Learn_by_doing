{
 "cells": [
  {
   "cell_type": "code",
   "execution_count": 1,
   "metadata": {},
   "outputs": [
    {
     "name": "stderr",
     "output_type": "stream",
     "text": [
      "/usr/lib/python3/dist-packages/h5py/__init__.py:36: FutureWarning: Conversion of the second argument of issubdtype from `float` to `np.floating` is deprecated. In future, it will be treated as `np.float64 == np.dtype(float).type`.\n",
      "  from ._conv import register_converters as _register_converters\n",
      "Using TensorFlow backend.\n",
      "/usr/local/lib/python3.6/dist-packages/tensorflow/python/framework/dtypes.py:516: FutureWarning: Passing (type, 1) or '1type' as a synonym of type is deprecated; in a future version of numpy, it will be understood as (type, (1,)) / '(1,)type'.\n",
      "  _np_qint8 = np.dtype([(\"qint8\", np.int8, 1)])\n",
      "/usr/local/lib/python3.6/dist-packages/tensorflow/python/framework/dtypes.py:517: FutureWarning: Passing (type, 1) or '1type' as a synonym of type is deprecated; in a future version of numpy, it will be understood as (type, (1,)) / '(1,)type'.\n",
      "  _np_quint8 = np.dtype([(\"quint8\", np.uint8, 1)])\n",
      "/usr/local/lib/python3.6/dist-packages/tensorflow/python/framework/dtypes.py:518: FutureWarning: Passing (type, 1) or '1type' as a synonym of type is deprecated; in a future version of numpy, it will be understood as (type, (1,)) / '(1,)type'.\n",
      "  _np_qint16 = np.dtype([(\"qint16\", np.int16, 1)])\n",
      "/usr/local/lib/python3.6/dist-packages/tensorflow/python/framework/dtypes.py:519: FutureWarning: Passing (type, 1) or '1type' as a synonym of type is deprecated; in a future version of numpy, it will be understood as (type, (1,)) / '(1,)type'.\n",
      "  _np_quint16 = np.dtype([(\"quint16\", np.uint16, 1)])\n",
      "/usr/local/lib/python3.6/dist-packages/tensorflow/python/framework/dtypes.py:520: FutureWarning: Passing (type, 1) or '1type' as a synonym of type is deprecated; in a future version of numpy, it will be understood as (type, (1,)) / '(1,)type'.\n",
      "  _np_qint32 = np.dtype([(\"qint32\", np.int32, 1)])\n",
      "/usr/local/lib/python3.6/dist-packages/tensorflow/python/framework/dtypes.py:525: FutureWarning: Passing (type, 1) or '1type' as a synonym of type is deprecated; in a future version of numpy, it will be understood as (type, (1,)) / '(1,)type'.\n",
      "  np_resource = np.dtype([(\"resource\", np.ubyte, 1)])\n",
      "/usr/local/lib/python3.6/dist-packages/tensorboard/compat/tensorflow_stub/dtypes.py:541: FutureWarning: Passing (type, 1) or '1type' as a synonym of type is deprecated; in a future version of numpy, it will be understood as (type, (1,)) / '(1,)type'.\n",
      "  _np_qint8 = np.dtype([(\"qint8\", np.int8, 1)])\n",
      "/usr/local/lib/python3.6/dist-packages/tensorboard/compat/tensorflow_stub/dtypes.py:542: FutureWarning: Passing (type, 1) or '1type' as a synonym of type is deprecated; in a future version of numpy, it will be understood as (type, (1,)) / '(1,)type'.\n",
      "  _np_quint8 = np.dtype([(\"quint8\", np.uint8, 1)])\n",
      "/usr/local/lib/python3.6/dist-packages/tensorboard/compat/tensorflow_stub/dtypes.py:543: FutureWarning: Passing (type, 1) or '1type' as a synonym of type is deprecated; in a future version of numpy, it will be understood as (type, (1,)) / '(1,)type'.\n",
      "  _np_qint16 = np.dtype([(\"qint16\", np.int16, 1)])\n",
      "/usr/local/lib/python3.6/dist-packages/tensorboard/compat/tensorflow_stub/dtypes.py:544: FutureWarning: Passing (type, 1) or '1type' as a synonym of type is deprecated; in a future version of numpy, it will be understood as (type, (1,)) / '(1,)type'.\n",
      "  _np_quint16 = np.dtype([(\"quint16\", np.uint16, 1)])\n",
      "/usr/local/lib/python3.6/dist-packages/tensorboard/compat/tensorflow_stub/dtypes.py:545: FutureWarning: Passing (type, 1) or '1type' as a synonym of type is deprecated; in a future version of numpy, it will be understood as (type, (1,)) / '(1,)type'.\n",
      "  _np_qint32 = np.dtype([(\"qint32\", np.int32, 1)])\n",
      "/usr/local/lib/python3.6/dist-packages/tensorboard/compat/tensorflow_stub/dtypes.py:550: FutureWarning: Passing (type, 1) or '1type' as a synonym of type is deprecated; in a future version of numpy, it will be understood as (type, (1,)) / '(1,)type'.\n",
      "  np_resource = np.dtype([(\"resource\", np.ubyte, 1)])\n"
     ]
    }
   ],
   "source": [
    "from keras.datasets import imdb\n",
    "\n",
    "(train_data, train_labels),(test_data, test_labels) = imdb.load_data(num_words = 10000)\n",
    "word_index = imdb.get_word_index()\n",
    "\n",
    "reverse_word_index = dict([(value, key) for (key, value) in word_index.items()])\n",
    "decode_review = ' '.join(reverse_word_index.get(i - 3, '?') for i in train_data[0])\n",
    "\n",
    "import numpy as np\n",
    "\n",
    "def vectorize_sequences(sequences, dimension = 10000):\n",
    "    results = np.zeros((len(sequences), dimension))\n",
    "    for i, sequence in  enumerate(sequences):\n",
    "        results[i, sequence] = 1.\n",
    "    return results\n",
    "\n",
    "x_train = vectorize_sequences(train_data)\n",
    "x_test = vectorize_sequences(test_data)\n",
    "\n",
    "y_train = np.array(train_labels).astype('float32')\n",
    "y_test = np.array(test_labels).astype('float32')\n"
   ]
  },
  {
   "cell_type": "code",
   "execution_count": 22,
   "metadata": {},
   "outputs": [],
   "source": [
    "from keras import models\n",
    "from keras import layers\n",
    "\n",
    "model = models.Sequential()\n",
    "model.add(layers.Dense(16, activation = 'relu',input_shape = (10000, )))\n",
    "model.add(layers.Dense(16, activation = 'relu'))\n",
    "model.add(layers.Dense(1, activation = 'sigmoid'))\n"
   ]
  },
  {
   "cell_type": "code",
   "execution_count": 23,
   "metadata": {},
   "outputs": [
    {
     "name": "stdout",
     "output_type": "stream",
     "text": [
      "Train on 15000 samples, validate on 10000 samples\n",
      "Epoch 1/20\n",
      "15000/15000 [==============================] - 1s 71us/step - loss: 0.5032 - acc: 0.7987 - val_loss: 0.3735 - val_acc: 0.8734\n",
      "Epoch 2/20\n",
      "15000/15000 [==============================] - 1s 53us/step - loss: 0.2985 - acc: 0.9051 - val_loss: 0.3013 - val_acc: 0.8877\n",
      "Epoch 3/20\n",
      "15000/15000 [==============================] - 1s 51us/step - loss: 0.2188 - acc: 0.9303 - val_loss: 0.2912 - val_acc: 0.8821\n",
      "Epoch 4/20\n",
      "15000/15000 [==============================] - 1s 52us/step - loss: 0.1741 - acc: 0.9448 - val_loss: 0.2755 - val_acc: 0.8898\n",
      "Epoch 5/20\n",
      "15000/15000 [==============================] - 1s 51us/step - loss: 0.1430 - acc: 0.9528 - val_loss: 0.2807 - val_acc: 0.8895\n",
      "Epoch 6/20\n",
      "15000/15000 [==============================] - 1s 51us/step - loss: 0.1147 - acc: 0.9653 - val_loss: 0.2929 - val_acc: 0.8866\n",
      "Epoch 7/20\n",
      "15000/15000 [==============================] - 1s 51us/step - loss: 0.0973 - acc: 0.9716 - val_loss: 0.3496 - val_acc: 0.8730\n",
      "Epoch 8/20\n",
      "15000/15000 [==============================] - 1s 57us/step - loss: 0.0809 - acc: 0.9772 - val_loss: 0.3323 - val_acc: 0.8810\n",
      "Epoch 9/20\n",
      "15000/15000 [==============================] - 1s 54us/step - loss: 0.0636 - acc: 0.9830 - val_loss: 0.3725 - val_acc: 0.8743\n",
      "Epoch 10/20\n",
      "15000/15000 [==============================] - 1s 57us/step - loss: 0.0543 - acc: 0.9859 - val_loss: 0.3829 - val_acc: 0.8770\n",
      "Epoch 11/20\n",
      "15000/15000 [==============================] - 1s 56us/step - loss: 0.0447 - acc: 0.9892 - val_loss: 0.4332 - val_acc: 0.8729\n",
      "Epoch 12/20\n",
      "15000/15000 [==============================] - 1s 52us/step - loss: 0.0343 - acc: 0.9932 - val_loss: 0.4384 - val_acc: 0.8748\n",
      "Epoch 13/20\n",
      "15000/15000 [==============================] - 1s 51us/step - loss: 0.0300 - acc: 0.9941 - val_loss: 0.4824 - val_acc: 0.8720\n",
      "Epoch 14/20\n",
      "15000/15000 [==============================] - 1s 51us/step - loss: 0.0227 - acc: 0.9959 - val_loss: 0.4985 - val_acc: 0.8733\n",
      "Epoch 15/20\n",
      "15000/15000 [==============================] - 1s 51us/step - loss: 0.0174 - acc: 0.9973 - val_loss: 0.5396 - val_acc: 0.8679\n",
      "Epoch 16/20\n",
      "15000/15000 [==============================] - 1s 52us/step - loss: 0.0156 - acc: 0.9977 - val_loss: 0.5651 - val_acc: 0.8689\n",
      "Epoch 17/20\n",
      "15000/15000 [==============================] - 1s 51us/step - loss: 0.0096 - acc: 0.9989 - val_loss: 0.5995 - val_acc: 0.8683\n",
      "Epoch 18/20\n",
      "15000/15000 [==============================] - 1s 51us/step - loss: 0.0097 - acc: 0.9983 - val_loss: 0.6369 - val_acc: 0.8664\n",
      "Epoch 19/20\n",
      "15000/15000 [==============================] - 1s 51us/step - loss: 0.0045 - acc: 0.9999 - val_loss: 0.6792 - val_acc: 0.8626\n",
      "Epoch 20/20\n",
      "15000/15000 [==============================] - 1s 51us/step - loss: 0.0080 - acc: 0.9986 - val_loss: 0.6931 - val_acc: 0.8658\n"
     ]
    }
   ],
   "source": [
    "from keras.optimizers import RMSprop\n",
    "from keras.losses import binary_crossentropy\n",
    "#from keras import metrics\n",
    "\n",
    "model.compile(optimizer = RMSprop(lr = 0.001),\n",
    "              loss = binary_crossentropy,\n",
    "              metrics = ['acc'])\n",
    "\n",
    "x_val = x_train[:10000]\n",
    "partial_x_train = x_train[10000:]\n",
    "\n",
    "y_val = y_train[:10000]\n",
    "partial_y_train = y_train[10000:]\n",
    "\n",
    "history = model.fit(partial_x_train,\n",
    "                    partial_y_train,\n",
    "                    epochs = 20,\n",
    "                    batch_size = 512,\n",
    "                    validation_data = (x_val, y_val))"
   ]
  },
  {
   "cell_type": "code",
   "execution_count": 24,
   "metadata": {},
   "outputs": [],
   "source": [
    "model2 = models.Sequential()\n",
    "model2.add(layers.Dense(4, activation = 'relu',input_shape = (10000, )))\n",
    "model2.add(layers.Dense(4, activation = 'relu'))\n",
    "model2.add(layers.Dense(1, activation = 'sigmoid'))"
   ]
  },
  {
   "cell_type": "code",
   "execution_count": 25,
   "metadata": {},
   "outputs": [
    {
     "name": "stdout",
     "output_type": "stream",
     "text": [
      "Train on 15000 samples, validate on 10000 samples\n",
      "Epoch 1/20\n",
      "15000/15000 [==============================] - 1s 79us/step - loss: 0.5697 - acc: 0.7653 - val_loss: 0.4715 - val_acc: 0.8573\n",
      "Epoch 2/20\n",
      "15000/15000 [==============================] - 1s 54us/step - loss: 0.4030 - acc: 0.8890 - val_loss: 0.3840 - val_acc: 0.8760\n",
      "Epoch 3/20\n",
      "15000/15000 [==============================] - 1s 55us/step - loss: 0.3176 - acc: 0.9103 - val_loss: 0.3374 - val_acc: 0.8793\n",
      "Epoch 4/20\n",
      "15000/15000 [==============================] - 1s 55us/step - loss: 0.2636 - acc: 0.9240 - val_loss: 0.3068 - val_acc: 0.8863\n",
      "Epoch 5/20\n",
      "15000/15000 [==============================] - 1s 55us/step - loss: 0.2249 - acc: 0.9338 - val_loss: 0.2947 - val_acc: 0.8850\n",
      "Epoch 6/20\n",
      "15000/15000 [==============================] - 1s 54us/step - loss: 0.1978 - acc: 0.9433 - val_loss: 0.2821 - val_acc: 0.8900\n",
      "Epoch 7/20\n",
      "15000/15000 [==============================] - 1s 51us/step - loss: 0.1741 - acc: 0.9489 - val_loss: 0.2759 - val_acc: 0.8909\n",
      "Epoch 8/20\n",
      "15000/15000 [==============================] - 1s 51us/step - loss: 0.1568 - acc: 0.9542 - val_loss: 0.2816 - val_acc: 0.8869\n",
      "Epoch 9/20\n",
      "15000/15000 [==============================] - 1s 51us/step - loss: 0.1403 - acc: 0.9597 - val_loss: 0.2817 - val_acc: 0.8892\n",
      "Epoch 10/20\n",
      "15000/15000 [==============================] - 1s 51us/step - loss: 0.1262 - acc: 0.9649 - val_loss: 0.2933 - val_acc: 0.8818\n",
      "Epoch 11/20\n",
      "15000/15000 [==============================] - 1s 51us/step - loss: 0.1150 - acc: 0.9689 - val_loss: 0.2840 - val_acc: 0.8892\n",
      "Epoch 12/20\n",
      "15000/15000 [==============================] - 1s 54us/step - loss: 0.1038 - acc: 0.9721 - val_loss: 0.2915 - val_acc: 0.8877\n",
      "Epoch 13/20\n",
      "15000/15000 [==============================] - 1s 51us/step - loss: 0.0947 - acc: 0.9754 - val_loss: 0.3038 - val_acc: 0.8851\n",
      "Epoch 14/20\n",
      "15000/15000 [==============================] - 1s 51us/step - loss: 0.0853 - acc: 0.9787 - val_loss: 0.3104 - val_acc: 0.8851\n",
      "Epoch 15/20\n",
      "15000/15000 [==============================] - 1s 55us/step - loss: 0.0771 - acc: 0.9813 - val_loss: 0.3178 - val_acc: 0.8830\n",
      "Epoch 16/20\n",
      "15000/15000 [==============================] - 1s 52us/step - loss: 0.0709 - acc: 0.9838 - val_loss: 0.3288 - val_acc: 0.8813\n",
      "Epoch 17/20\n",
      "15000/15000 [==============================] - 1s 51us/step - loss: 0.0639 - acc: 0.9859 - val_loss: 0.3431 - val_acc: 0.8806\n",
      "Epoch 18/20\n",
      "15000/15000 [==============================] - 1s 51us/step - loss: 0.0578 - acc: 0.9882 - val_loss: 0.3611 - val_acc: 0.8743\n",
      "Epoch 19/20\n",
      "15000/15000 [==============================] - 1s 51us/step - loss: 0.0523 - acc: 0.9902 - val_loss: 0.3653 - val_acc: 0.8779\n",
      "Epoch 20/20\n",
      "15000/15000 [==============================] - 1s 51us/step - loss: 0.0475 - acc: 0.9911 - val_loss: 0.3812 - val_acc: 0.8785\n"
     ]
    }
   ],
   "source": [
    "model2.compile(optimizer = RMSprop(lr = 0.001),\n",
    "              loss = binary_crossentropy,\n",
    "              metrics = ['acc'])\n",
    "\n",
    "history2 = model2.fit(partial_x_train,\n",
    "                    partial_y_train,\n",
    "                    epochs = 20,\n",
    "                    batch_size = 512,\n",
    "                    validation_data = (x_val, y_val))"
   ]
  },
  {
   "cell_type": "code",
   "execution_count": 26,
   "metadata": {},
   "outputs": [
    {
     "name": "stdout",
     "output_type": "stream",
     "text": [
      "Train on 15000 samples, validate on 10000 samples\n",
      "Epoch 1/20\n",
      "15000/15000 [==============================] - 2s 108us/step - loss: 0.5133 - acc: 0.7597 - val_loss: 1.0803 - val_acc: 0.6213\n",
      "Epoch 2/20\n",
      "15000/15000 [==============================] - 1s 79us/step - loss: 0.2716 - acc: 0.8933 - val_loss: 0.2823 - val_acc: 0.8851\n",
      "Epoch 3/20\n",
      "15000/15000 [==============================] - 1s 79us/step - loss: 0.1553 - acc: 0.9413 - val_loss: 0.2770 - val_acc: 0.8899\n",
      "Epoch 4/20\n",
      "15000/15000 [==============================] - 1s 79us/step - loss: 0.0911 - acc: 0.9701 - val_loss: 0.3854 - val_acc: 0.8789\n",
      "Epoch 5/20\n",
      "15000/15000 [==============================] - 1s 80us/step - loss: 0.0958 - acc: 0.9797 - val_loss: 0.3406 - val_acc: 0.8861\n",
      "Epoch 6/20\n",
      "15000/15000 [==============================] - 1s 82us/step - loss: 0.0042 - acc: 0.9996 - val_loss: 0.5156 - val_acc: 0.8827\n",
      "Epoch 7/20\n",
      "15000/15000 [==============================] - 1s 83us/step - loss: 5.5284e-04 - acc: 1.0000 - val_loss: 0.6635 - val_acc: 0.8724\n",
      "Epoch 8/20\n",
      "15000/15000 [==============================] - 1s 79us/step - loss: 9.9396e-05 - acc: 1.0000 - val_loss: 0.6683 - val_acc: 0.8863\n",
      "Epoch 9/20\n",
      "15000/15000 [==============================] - 1s 85us/step - loss: 1.3964e-05 - acc: 1.0000 - val_loss: 0.7374 - val_acc: 0.8868\n",
      "Epoch 10/20\n",
      "15000/15000 [==============================] - 1s 83us/step - loss: 3.1426e-06 - acc: 1.0000 - val_loss: 0.8007 - val_acc: 0.8862\n",
      "Epoch 11/20\n",
      "15000/15000 [==============================] - 1s 85us/step - loss: 9.3154e-07 - acc: 1.0000 - val_loss: 0.8496 - val_acc: 0.8862\n",
      "Epoch 12/20\n",
      "15000/15000 [==============================] - 1s 82us/step - loss: 3.5512e-07 - acc: 1.0000 - val_loss: 0.8864 - val_acc: 0.8860\n",
      "Epoch 13/20\n",
      "15000/15000 [==============================] - 1s 80us/step - loss: 1.9062e-07 - acc: 1.0000 - val_loss: 0.9176 - val_acc: 0.8862\n",
      "Epoch 14/20\n",
      "15000/15000 [==============================] - 1s 86us/step - loss: 1.3973e-07 - acc: 1.0000 - val_loss: 0.9377 - val_acc: 0.8862\n",
      "Epoch 15/20\n",
      "15000/15000 [==============================] - 1s 81us/step - loss: 1.2371e-07 - acc: 1.0000 - val_loss: 0.9499 - val_acc: 0.8863\n",
      "Epoch 16/20\n",
      "15000/15000 [==============================] - 1s 81us/step - loss: 1.1766e-07 - acc: 1.0000 - val_loss: 0.9592 - val_acc: 0.8861\n",
      "Epoch 17/20\n",
      "15000/15000 [==============================] - 1s 81us/step - loss: 1.1487e-07 - acc: 1.0000 - val_loss: 0.9677 - val_acc: 0.8864\n",
      "Epoch 18/20\n",
      "15000/15000 [==============================] - 1s 81us/step - loss: 1.1330e-07 - acc: 1.0000 - val_loss: 0.9715 - val_acc: 0.8862\n",
      "Epoch 19/20\n",
      "15000/15000 [==============================] - 1s 81us/step - loss: 1.1235e-07 - acc: 1.0000 - val_loss: 0.9756 - val_acc: 0.8861\n",
      "Epoch 20/20\n",
      "15000/15000 [==============================] - 1s 81us/step - loss: 1.1170e-07 - acc: 1.0000 - val_loss: 0.9802 - val_acc: 0.8865\n"
     ]
    }
   ],
   "source": [
    "model3 = models.Sequential()\n",
    "model3.add(layers.Dense(512, activation = 'relu',input_shape = (10000, )))\n",
    "model3.add(layers.Dense(512, activation = 'relu'))\n",
    "model3.add(layers.Dense(1, activation = 'sigmoid'))\n",
    "model3.compile(optimizer = RMSprop(lr = 0.001),\n",
    "              loss = binary_crossentropy,\n",
    "              metrics = ['acc'])\n",
    "\n",
    "history3 = model3.fit(partial_x_train,\n",
    "                    partial_y_train,\n",
    "                    epochs = 20,\n",
    "                    batch_size = 512,\n",
    "                    validation_data = (x_val, y_val))"
   ]
  },
  {
   "cell_type": "code",
   "execution_count": 28,
   "metadata": {},
   "outputs": [
    {
     "data": {
      "image/png": "[encoded data removed]",
      "text/plain": [
       "<matplotlib.figure.Figure at 0x7f2887c51400>"
      ]
     },
     "metadata": {
      "needs_background": "light"
     },
     "output_type": "display_data"
    }
   ],
   "source": [
    "import matplotlib.pyplot as plt\n",
    "\n",
    "history_dict = history.history\n",
    "loss_values = history_dict['loss']\n",
    "val_loss_values = history_dict['val_loss']\n",
    "\n",
    "history2_dict = history2.history\n",
    "loss2_values = history2_dict['loss']\n",
    "val_loss2_values = history2_dict['val_loss']\n",
    "\n",
    "history3_dict = history3.history\n",
    "loss3_values = history3_dict['loss']\n",
    "val_loss3_values = history3_dict['val_loss']\n",
    "\n",
    "epochs = range(1, len(loss_values) + 1)\n",
    "\n",
    "plt.plot(epochs, val_loss_values, 'bo', label = 'Training loss')\n",
    "plt.plot(epochs, val_loss2_values, 'b', label = 'Training2 loss')\n",
    "plt.plot(epochs, val_loss3_values, 'r*', label = 'Training3 loss')\n",
    "plt.title('Training and validation loss')\n",
    "plt.xlabel('Epochs')\n",
    "plt.ylabel('Loss')\n",
    "plt.legend()\n",
    "\n",
    "plt.show()"
   ]
  },
  {
   "cell_type": "code",
   "execution_count": null,
   "metadata": {},
   "outputs": [],
   "source": []
  }
 ],
 "metadata": {
  "kernelspec": {
   "display_name": "Python 3",
   "language": "python",
   "name": "python3"
  },
  "language_info": {
   "codemirror_mode": {
    "name": "ipython",
    "version": 3
   },
   "file_extension": ".py",
   "mimetype": "text/x-python",
   "name": "python",
   "nbconvert_exporter": "python",
   "pygments_lexer": "ipython3",
   "version": "3.6.8"
  }
 },
 "nbformat": 4,
 "nbformat_minor": 2
}
